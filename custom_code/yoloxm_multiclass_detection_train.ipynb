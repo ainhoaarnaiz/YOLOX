{
 "cells": [
  {
   "cell_type": "code",
   "execution_count": null,
   "id": "5f087310",
   "metadata": {},
   "outputs": [
    {
     "name": "stdout",
     "output_type": "stream",
     "text": [
      "=== Cache-Safe YOLOX Training ===\n",
      "[INFO] This script will start a fresh Python process\n",
      "[INFO] This ensures all code changes are loaded\n",
      "\n",
      "[INFO] Starting fresh training process:\n",
      "python C:\\Users\\aarnaizl\\Documents\\YOLOX\\tools\\train.py -f C:\\Users\\aarnaizl\\Documents\\YOLOX\\exps\\default\\yolox_m.py -d 1 -b 8 --fp16\n",
      "--------------------------------------------------\n"
     ]
    }
   ],
   "source": [
    "#!/usr/bin/env python3\n",
    "\n",
    "import os\n",
    "import sys\n",
    "import subprocess\n",
    "\n",
    "YOLOX_PATH = r\"C:\\Users\\aarnaizl\\Documents\\YOLOX\"\n",
    "\n",
    "def clear_cache_and_train():\n",
    "    \"\"\"\n",
    "    Clear Python cache and start training.\n",
    "    \"\"\"\n",
    "    print(\"=== Cache-Safe YOLOX Training ===\")\n",
    "    print(\"[INFO] This script will start a fresh Python process\")\n",
    "    print(\"[INFO] This ensures all code changes are loaded\")\n",
    "    print()\n",
    "    \n",
    "    # Create the training command\n",
    "    train_script = os.path.join(YOLOX_PATH, \"tools\", \"train.py\")\n",
    "    exp_file = os.path.join(YOLOX_PATH, \"exps\", \"default\", \"yolox_m.py\")\n",
    "    \n",
    "    cmd = [\n",
    "        \"python\", train_script,\n",
    "        \"-f\", exp_file,\n",
    "        \"-d\", \"1\",\n",
    "        \"-b\", \"8\",\n",
    "        \"--fp16\"\n",
    "    ]\n",
    "    \n",
    "    print(\"[INFO] Starting fresh training process:\")\n",
    "    print(\" \".join(cmd))\n",
    "    print(\"-\" * 50)\n",
    "    \n",
    "    try:\n",
    "        # Start completely fresh Python process\n",
    "        result = subprocess.run(cmd, cwd=YOLOX_PATH)\n",
    "        \n",
    "        print(\"-\" * 50)\n",
    "        print(f\"[INFO] Training completed with exit code: {result.returncode}\")\n",
    "        \n",
    "        return result.returncode == 0\n",
    "        \n",
    "    except KeyboardInterrupt:\n",
    "        print(\"\\n[INFO] Training interrupted by user\")\n",
    "        return False\n",
    "    except Exception as e:\n",
    "        print(f\"[ERROR] Training failed: {e}\")\n",
    "        return False\n",
    "\n",
    "if __name__ == \"__main__\":\n",
    "    clear_cache_and_train()\n"
   ]
  }
 ],
 "metadata": {
  "kernelspec": {
   "display_name": "yolox",
   "language": "python",
   "name": "python3"
  },
  "language_info": {
   "codemirror_mode": {
    "name": "ipython",
    "version": 3
   },
   "file_extension": ".py",
   "mimetype": "text/x-python",
   "name": "python",
   "nbconvert_exporter": "python",
   "pygments_lexer": "ipython3",
   "version": "3.10.18"
  }
 },
 "nbformat": 4,
 "nbformat_minor": 5
}
